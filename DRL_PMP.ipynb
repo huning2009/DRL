{
  "nbformat": 4,
  "nbformat_minor": 0,
  "metadata": {
    "colab": {
      "name": "DRL_PMP.ipynb",
      "provenance": [],
      "collapsed_sections": []
    },
    "kernelspec": {
      "name": "python3",
      "display_name": "Python 3"
    }
  },
  "cells": [
    {
      "cell_type": "markdown",
      "metadata": {
        "id": "xrvChP937jOL",
        "colab_type": "text"
      },
      "source": [
        "# Deep Reinforcement Learning - Portfolio Management Problem\n",
        "\n",
        "In this notebook we implement the problem and methodology described in a previous report. It concerns a Portfolio Management Problem in context of the UZH Deep Reinforcement Learning Course.\n",
        "\n",
        "This Deep Policy Network Reinforcement Learning project is our implementation and further research of the original paper A Deep Reinforcement Learning Framework for the Financial Portfolio Management Problem (Jiang et al. 2017) (https://arxiv.org/pdf/1706.10059.pdf). It is partly inspired by their public repository https://github.com/ZhengyaoJiang/PGPortfolio, however almost all of the implementation below is by us done from scratch.\n",
        "\n",
        "The problem deals with an automated portfolio management. Given a set of stocks, how to best allocate money through time to maximize returns at the end of a certain number of timesteps. We have built an automated agent which best allocates the weights of its investment between different stocks.\n",
        "\n",
        "\n",
        "We implemented the problem on theirs half-hour cryptocurrency data and extend the experiment to the stock market, using the framework on daily data and intraday minute data with a daily rebalance.\n"
      ]
    },
    {
      "cell_type": "markdown",
      "metadata": {
        "id": "qtQb5B2y7fbu",
        "colab_type": "text"
      },
      "source": [
        "### Imports and requirements\n"
      ]
    },
    {
      "cell_type": "code",
      "metadata": {
        "id": "RUd3fUXX-c-J",
        "colab_type": "code",
        "outputId": "4f0fecdf-3744-48b9-c63c-eaa7fc01dc2d",
        "colab": {
          "base_uri": "https://localhost:8080/",
          "height": 153
        }
      },
      "source": [
        "! git clone https://github.com/japolak/DRL.git\n",
        "! ls"
      ],
      "execution_count": 1,
      "outputs": [
        {
          "output_type": "stream",
          "text": [
            "Cloning into 'DRL'...\n",
            "remote: Enumerating objects: 305, done.\u001b[K\n",
            "remote: Counting objects: 100% (305/305), done.\u001b[K\n",
            "remote: Compressing objects: 100% (277/277), done.\u001b[K\n",
            "remote: Total 305 (delta 29), reused 279 (delta 16), pack-reused 0\u001b[K\n",
            "Receiving objects: 100% (305/305), 27.88 MiB | 20.40 MiB/s, done.\n",
            "Resolving deltas: 100% (29/29), done.\n",
            "DRL  sample_data\n"
          ],
          "name": "stdout"
        }
      ]
    },
    {
      "cell_type": "code",
      "metadata": {
        "id": "OCZLxgQHoQqT",
        "colab_type": "code",
        "colab": {}
      },
      "source": [
        "import os\n",
        "import random\n",
        "import math\n",
        "import numpy as np\n",
        "import pandas as pd\n",
        "from tqdm import tqdm\n",
        "\n",
        "%tensorflow_version 1.x\n",
        "import tensorflow as tf\n",
        "\n",
        "%matplotlib inline\n",
        "import matplotlib\n",
        "import matplotlib.pyplot as plt"
      ],
      "execution_count": 0,
      "outputs": []
    },
    {
      "cell_type": "markdown",
      "metadata": {
        "id": "wrTiTaxzOyL6",
        "colab_type": "text"
      },
      "source": [
        "### Parameters Setup\n",
        "\n",
        "Here we define all the parameters that can be easily varied in our project.\n",
        "\n",
        "There are Financial parameters, such as initial portfolio capital for the training and testing period. An estimate of trading_cost from which is then calculated our transaction factor.\n",
        "\n",
        "Next there are Training parameters which influence the training of the agent. For example a batch size which is window of such width which is sequentially feeded into the neural network to train. Tensor history governs how much is the neural net allowed to look for history of prices of assets. Number of episodes and batches in the training phase. Train-validation ratios and an exploration/exploitation fraction.\n",
        "\n",
        "Lastly there are also parameters governing the architecture of the network such as kernel sizes and number of filters, or parameters of the optimization problem such as learning rate and optimization algorithm."
      ]
    },
    {
      "cell_type": "code",
      "metadata": {
        "id": "E6UrcOtYrST4",
        "colab_type": "code",
        "colab": {}
      },
      "source": [
        ""
      ],
      "execution_count": 0,
      "outputs": []
    },
    {
      "cell_type": "code",
      "metadata": {
        "id": "km5iR7Z9oZDP",
        "colab_type": "code",
        "cellView": "both",
        "colab": {}
      },
      "source": [
        "#@markdown ####Finance parameters\n",
        "pf_init_train = 10000 #@param {type: \"number\"}\n",
        "pf_init_test = 10000  #@param {type: \"number\"}\n",
        "trading_cost = 1e-5 #@param {type: \"number\"}\n",
        "interest_rate= 1e-5 #@param {type: \"number\"} \n",
        "cash_bias_init = 0.5\n",
        "sample_bias = 5e-5 \n",
        "\n",
        "#@markdown ####Training parameters\n",
        "batch_size =  200 #@param {type: \"number\"}                                  # Size of mini-batch during training\n",
        "tensor_history = 10 #@param {type: \"number\"}\n",
        "n_episodes = 3 #@param {type: \"number\"}\n",
        "n_batches = 10 #@param {type: \"number\"}\n",
        "ratio_train = 0.6\n",
        "ratio_valid = 0.2                                         \n",
        "ratio_greedy = 0.8\n",
        "ratio_regul = 0.1\n",
        "\n",
        "#@markdown ####Network parameters\n",
        "n_filter_1 = 2\n",
        "n_filter_2 = 20\n",
        "kernel1_size = (1,3)\n",
        "learning_rate = 1e-3  #@param {type: \"number\"}      \n",
        "momentum = 0.9 #@param {type: \"number\"}  \n",
        "#optimizer = tf.train.AdamOptimizer(learning_rate)\n",
        "optimizer = tf.train.MomentumOptimizer(learning_rate, momentum)\n",
        "\n"
      ],
      "execution_count": 0,
      "outputs": []
    },
    {
      "cell_type": "markdown",
      "metadata": {
        "id": "kdotNlRk72e5",
        "colab_type": "text"
      },
      "source": [
        "### Data Preprocessing\n",
        "\n",
        "Here we create the input tensor from the individual .csv files for different assets. It creates the tensor in numpy format and saves it. Optionally one can work directly with the precomputed input tensor. The precomputed price tensor contains a daily data on 5 stocks (AAPL, AXP, BA, CAT, CSCO).\n",
        "\n",
        "For each stock, the input is a raw time series of the prices (High, Low, Open, Close). Note that we include both Close from previous period (t-1) and Open from current period (t) as they differe for daily stock market data. (Note, they usually differ in practice also for half-hour or minute data)\n",
        "\n",
        "The features columns correspond to:\n",
        "- Close(t-1)/Open(t-1)\n",
        "- High(t-1)/Open(t-1)\n",
        "- Low(t-1)/Open(t-1)\n",
        "- Open(t)/Open(t-1)\n",
        "    \n",
        "We don't need to normalize the data since it's already of ratio of prices and hence close to one.\n",
        "\n",
        "The shape of the precomputed price tensor corresponds to:\n",
        "- 4: Number of features\n",
        "- 5: Number of stocks \n",
        "- 1259: Number of data points"
      ]
    },
    {
      "cell_type": "code",
      "metadata": {
        "id": "IPJ5c0d_6BmQ",
        "colab_type": "code",
        "colab": {}
      },
      "source": [
        "#@markdown Select which type of data to use\n",
        "data_dir = 'StocksD' #@param ['StocksD', 'StocksM', 'CryptoH']\n",
        "\n",
        "#@markdown Create input tensor\n",
        "uploaded_price_tensor = 'True' #@param ['True', 'False']\n",
        "\n",
        "# False, input.npy file is uploaded\n",
        "# True, .csv data of individual stocks are uploaded"
      ],
      "execution_count": 0,
      "outputs": []
    },
    {
      "cell_type": "code",
      "metadata": {
        "id": "Tedjb-TCoW4D",
        "colab_type": "code",
        "outputId": "c0f4f0f4-ee2d-4faa-fc7d-28e95a0df72c",
        "colab": {
          "base_uri": "https://localhost:8080/",
          "height": 51
        }
      },
      "source": [
        "if uploaded_price_tensor == 'True':\n",
        "    path_data = './DRL/input.npy'\n",
        "    data = np.load(path_data)   \n",
        "    list_stock = ['AAPL', 'AXP', 'BA', 'CAT', 'CSCO'] \n",
        "    print('\\n Input tensor read and ready to use!')\n",
        "else:\n",
        "    directory = './DRL/Data/' + data_dir + '/'                                  # Specify Directory of Data\n",
        "    stock_files = os.listdir(directory)                                         # Get list of all files\n",
        "    stock_files.sort()\n",
        "\n",
        "    for file in stock_files:                                                    # Remove hidden and unwanted files\n",
        "        if file[0] == '.': stock_files.remove(file)\n",
        "        if file[0] == '~': stock_files.remove(file)\n",
        "\n",
        "    selection = []                                                              # Load only subset of assets\n",
        "    if selection: stock_files = [stock_files[i] for i in selection ]\n",
        "\n",
        "    list_stock = [file.split('_')[0] for file in stock_files]                   # Extract stock names only\n",
        "\n",
        "    kept_stocks = list() \n",
        "    not_kept_stocks = list()       \n",
        "\n",
        "    for s in stock_files:                                                       # Check the history of stocks matches\n",
        "        df = pd.read_csv(directory + s)\n",
        "        if data_dir == 'StocksD':   \n",
        "            input_n = 1259                                                      # Stocks Daily data of 5 years (252*5)\n",
        "            if len(df)>=input_n: kept_stocks.append(s)\n",
        "            else: not_kept_stocks.append(s)\n",
        "        elif data_dir == 'StocksM':\n",
        "            input_n = 59280                                                     # Stocks Minute data of 1/2 year (152*6.5*60)\n",
        "            if len(df)>=input_n: kept_stocks.append(s)\n",
        "            else: not_kept_stocks.append(s)\n",
        "        elif data_dir == 'CryptoH':\n",
        "            input_n = 17520                                                     # Crypto Half-hour data of 1 year (365*24*2)\n",
        "            if len(df)>=input_n: kept_stocks.append(s)\n",
        "            else: not_kept_stocks.append(s)\n",
        "\n",
        "    print('\\n There is {} different assets. \\n Following assets will be loaded {}'.format(len(list_stock),list_stock))\n",
        "    if not_kept_stocks: print(' Error in reading following stocks {}'.format(not_kept_stocks))\n",
        "\n",
        "    list_open = list()                                                          # Read following features from data\n",
        "    list_close = list()\n",
        "    list_high = list()\n",
        "    list_low = list()\n",
        "\n",
        "    for s in tqdm(kept_stocks):                                                     \n",
        "        data = pd.read_csv(directory + s).fillna('bfill').copy()\n",
        "        data = data[['open', 'close', 'high', 'low']]\n",
        "        data = data.tail(input_n)\n",
        "        list_open.append(data.open.values)\n",
        "        list_close.append(data.close.values)\n",
        "        list_high.append(data.high.values)\n",
        "        list_low.append(data.low.values)\n",
        "\n",
        "    array_open = np.transpose(np.array(list_open))[:-1]                         # Shift them according to period they belong to\n",
        "    array_open_of_the_day = np.transpose(np.array(list_open))[1:]\n",
        "    array_close = np.transpose(np.array(list_close))[:-1]\n",
        "    array_high = np.transpose(np.array(list_high))[:-1]\n",
        "    array_low = np.transpose(np.array(list_low))[:-1]  \n",
        "\n",
        "    X = np.transpose(np.array([array_close/array_open,                          # Combine data together into one tensor\n",
        "                              array_high/array_open,\n",
        "                              array_low/array_open,\n",
        "                              array_open_of_the_day/array_open]), axes= (0,2,1))\n",
        "\n",
        "    input_f, input_m, input_n = X.shape                                         # Check dimensions of data\n",
        "    print('\\n Data have shape {}'.format(X.shape))\n",
        "    print(' Number of features: {}'.format(input_f))\n",
        "    print(' Number of assets: {}'.format(input_m))\n",
        "    print(' Number of samples: {}'.format(input_n))\n",
        "\n",
        "    np.save('./input.npy', X)                                                   # Save input tensor\n",
        "    data = np.load(path_data)                                                   # Read data to be used below\n",
        "    print('\\n Input tensor saved and ready to use!')\n"
      ],
      "execution_count": 5,
      "outputs": [
        {
          "output_type": "stream",
          "text": [
            "\n",
            " Input tensor read and ready to use!\n"
          ],
          "name": "stdout"
        }
      ]
    },
    {
      "cell_type": "markdown",
      "metadata": {
        "id": "XR_hOiCa76qP",
        "colab_type": "text"
      },
      "source": [
        "### Trading Envirionment\n",
        "\n",
        "The portfolio manager agent is set-up in following way:\n",
        "\n",
        "The state (at time t) is the input matrix and the previous portfolio weights (at time t-1).\n",
        "The action is the vector of investment weight (at time t).\n",
        "The reward function is defined such as it is the agent's return minus a baseline’s return (baseline is an equi weighted agent - invest in all the possible stocks in the same way) minus a transaction factor estimated by the transaction cost and maximum change of weight of asset. (this is specifficaly set-up to make the agent avoids to invest fully in one stock of make large bets)"
      ]
    },
    {
      "cell_type": "code",
      "metadata": {
        "id": "TD_6ub0dsvZ3",
        "colab_type": "code",
        "colab": {}
      },
      "source": [
        "class TradeEnv():\n",
        "    \"\"\"\n",
        "    This class is the trading environment (render) of our project. \n",
        "    The trading agent calls the class by giving an action at the time t. \n",
        "    Then the render gives back the new portfolio at the next step (time t+1). \n",
        "\n",
        "    # Parameters:\n",
        "    - windonw_length: number of time inputs looked in the past to build the input tensor\n",
        "    - portfolio_value: initial value of the portfolio \n",
        "    - trading_cost: cost (in % of the traded stocks) the agent will pay to execute the action \n",
        "    - interest_rate: rate (in % of the money the agent has) the agent will either get at each step \n",
        "                     if he has a positive amount of money or pay if he has a negative amount of money\n",
        "    -train_size: fraction of data used for the training of the agent, (train -> | time T | -> test)\n",
        "    \"\"\"\n",
        "\n",
        "    def __init__(self, path = './input.npy', window_length=50,\n",
        "                 portfolio_value= 10000, trading_cost= 0.25/100,\n",
        "                 interest_rate= 0.02/250, train_size = 0.7):\n",
        "        \n",
        "        self.path = path                                                        # path to numpy data\n",
        "        self.data = np.load(self.path)                                          # load the input tensor\n",
        "        self.portfolio_value = portfolio_value                                  # initial input value\n",
        "        self.window_length = window_length                                      # window of previous samples\n",
        "        self.trading_cost = trading_cost                                        # trading costs\n",
        "        self.interest_rate = interest_rate                                      # interest rate on money\n",
        "        self.nb_features = self.data.shape[0]                                   # number of features\n",
        "        self.nb_stocks = self.data.shape[1]                                     # number of stocks\n",
        "        self.nb_samples = self.data.shape[2]                                    # number of samples\n",
        "        self.end_train = int((self.nb_samples-self.window_length)*train_size)   # number of training samples\n",
        "        self.index = None                                                       # initial index - integer / time step t currently happening\n",
        "        self.state = None                                                       # initial state - tuple / data, portfolio weights, portfolio value\n",
        "        self.done = False                                                       # epoch indicator\n",
        "\n",
        "    def return_pf(self):\n",
        "        \"\"\"\n",
        "        Current portfolio value\n",
        "        \"\"\"\n",
        "        return self.portfolio_value\n",
        "        \n",
        "    def readTensor(self,X,t): \n",
        "        \"\"\"                                         \n",
        "        Input tensor for NN. All features, All stocks, Current time up to window previous values\n",
        "        \"\"\"\n",
        "        return X[ : , :, t-self.window_length:t ]\n",
        "    \n",
        "    def readUpdate(self, t):\n",
        "        \"\"\"\n",
        "        Return of each stock for the period t \n",
        "        \"\"\"\n",
        "        return np.array([1+self.interest_rate]+self.data[-1,:,t].tolist())\n",
        "    \n",
        "    def reset(self, w_init, p_init, t=0 ):\n",
        "        \"\"\"\n",
        "        Reset the environments' epoch with given first window of data, initial portfolio weights and value of portfolio\n",
        "        \"\"\"\n",
        "        self.state = (self.readTensor(self.data, self.window_length), w_init , p_init )\n",
        "        self.index = self.window_length + t\n",
        "        self.done = False\n",
        "        return self.state, self.done\n",
        "  \n",
        "    def step(self, action):\n",
        "        \"\"\"\n",
        "        Main function of the render. At each step t, the trading agent gives (the action he wants to do) the new value of the weights of the portfolio. \n",
        "        The function computes the new value of the portfolio at the step (t+1), it returns also the reward associated with the action the agent took. \n",
        "        The reward is defined as the evolution of the the value of the portfolio in %. \n",
        "        \"\"\"\n",
        "        index = self.index                                                      # current time step\n",
        "        data = self.readTensor(self.data, index)                                # current input tensor\n",
        "        done = self.done                                                        # current epoch indicator\n",
        "\n",
        "        # Beginning of the day / period\n",
        "        state = self.state                                                      # state space at the beginning of the period\n",
        "        w_previous = state[1]                                                   # weights of the portfolio at the beginning of the day\n",
        "        pf_previous = state[2]                                                  # value of portfolio at the beginning of the day        \n",
        "        update_vector = self.readUpdate(index)                                  # vector of opening price of the period divided by opening price of previous period\n",
        "        w_alloc = action                                                        # action - chosen weights for portfolio for the next step \n",
        "        trans_f = np.linalg.norm((w_alloc-w_previous),ord=1)*self.trading_cost  # transaction remainder factor\n",
        "        cost = pf_previous * trans_f                                            # compute transaction cost\n",
        "        v_alloc = pf_previous * w_alloc                                         # convert weight vector into value vector\n",
        "        v_trans = v_alloc - np.array([cost] + [0]*self.nb_stocks)               # substract the transaction cost from each value vector\n",
        "        \n",
        "        # End of the day / period\n",
        "        v_evol = v_trans*update_vector                                          # compute value evolution of portfolio \n",
        "        pf_evol = np.sum(v_evol)                                                # compute the total new portfolio value\n",
        "        w_evol = v_evol/pf_evol                                                 # compute weight vector of portfolio\n",
        "        reward = (pf_evol-pf_previous)/pf_previous                              # compute instanteanous reward\n",
        "        index = index + 1                                                       # update index\n",
        "        state = (self.readTensor(self.data, index), w_evol, pf_evol)            # compute new state\n",
        "\n",
        "        if index >= self.end_train: done = True                                 # check if epoch has ended\n",
        "        self.state = state                                                      # save state\n",
        "        self.index = index                                                      # save time step\n",
        "        self.done = done                                                        # save epoch indicato\n",
        "        \n",
        "        return state, reward, done\n",
        "        \n",
        "      "
      ],
      "execution_count": 0,
      "outputs": []
    },
    {
      "cell_type": "markdown",
      "metadata": {
        "id": "rS0X08PMViWe",
        "colab_type": "text"
      },
      "source": [
        "### Deep Policy Network\n",
        "\n",
        "The policy function is designed through a convolutional neural network which takes as input the input tensor and outputs are the weights for different assets which corresponds to the actions the agent will take. The first convolution is realized resulting in a smaller tensor. Then, a second convolution expands the number of convolutional filters. The network convolutes each asset independently and at final flattened layers, it incorporates its portfolio weight from previous period by stacking the previous output vector. Lastly, a cash bias is added and a softmax function is applied.\n",
        "\n",
        "The environment then cmpute the new vector of weights, the new portfolio and instant reward."
      ]
    },
    {
      "cell_type": "code",
      "metadata": {
        "id": "sFKyhmaFtIJm",
        "colab_type": "code",
        "colab": {}
      },
      "source": [
        "class Policy(object):\n",
        "    '''\n",
        "    This class is used to instanciate the policy network agent\n",
        "    '''\n",
        "\n",
        "    def __init__(self, m, n, sess, optimizer,\n",
        "                 trading_cost=trading_cost,\n",
        "                 interest_rate=interest_rate,\n",
        "                 n_filter_1=n_filter_1,\n",
        "                 n_filter_2=n_filter_2):\n",
        "\n",
        "        # parameters\n",
        "        self.trading_cost = trading_cost\n",
        "        self.interest_rate = interest_rate\n",
        "        self.n_filter_1 = n_filter_1\n",
        "        self.n_filter_2 = n_filter_2\n",
        "        self.n = n\n",
        "        self.m = m\n",
        "\n",
        "        with tf.variable_scope(\"Inputs\"):                                       # Placeholders for variables\n",
        "            self.X_t = tf.placeholder(\n",
        "                tf.float32, [None, nb_feature_map, self.m, self.n])             # The Price tensor\n",
        "            self.W_previous = tf.placeholder(tf.float32, [None, self.m+1])      # weights at the previous time step\n",
        "            self.pf_value_previous = tf.placeholder(tf.float32, [None, 1])      # portfolio value at the previous time step\n",
        "            self.dailyReturn_t = tf.placeholder(tf.float32, [None, self.m])     # vector of Open(t+1)/Open(t)\n",
        "            #self.pf_value_previous_eq = tf.placeholder(tf.float32, [None, 1])\n",
        "\n",
        "        with tf.variable_scope(\"Policy_Model\"):                                 # Policy function\n",
        "\n",
        "            bias = tf.get_variable('cash_bias', shape=[1, 1, 1, 1], \n",
        "                                   initializer=tf.constant_initializer(cash_bias_init))  # variable of the cash bias\n",
        "            shape_X_t = tf.shape(self.X_t)[0]                                   # shape of the tensor == batchsize\n",
        "            self.cash_bias = tf.tile(bias, tf.stack([shape_X_t, 1, 1, 1]))      # modify to get a \"tensor size\" for the cash bias\n",
        "            # print(self.cash_bias.shape)\n",
        "\n",
        "            with tf.variable_scope(\"Conv1\"):                                    # first layer on the X_t tensor, return a tensor of depth 2\n",
        "                self.conv1 = tf.layers.conv2d(\n",
        "                    inputs=tf.transpose(self.X_t, perm=[0, 3, 2, 1]),\n",
        "                    activation=tf.nn.relu,\n",
        "                    filters=self.n_filter_1,\n",
        "                    strides=(1, 1),\n",
        "                    kernel_size=kernel1_size,\n",
        "                    padding='same')\n",
        "\n",
        "            with tf.variable_scope(\"Conv2\"):                                    # feature maps\n",
        "                self.conv2 = tf.layers.conv2d(\n",
        "                    inputs=self.conv1,\n",
        "                    activation=tf.nn.relu,\n",
        "                    filters=self.n_filter_2,\n",
        "                    strides=(self.n, 1),\n",
        "                    kernel_size=(1, self.n),\n",
        "                    padding='same')\n",
        "\n",
        "            with tf.variable_scope(\"Tensor3\"):                                  # include weights w from last period, modify to have good dimensions\n",
        "                w_wo_c = self.W_previous[:, 1:]\n",
        "                w_wo_c = tf.expand_dims(w_wo_c, 1)\n",
        "                w_wo_c = tf.expand_dims(w_wo_c, -1)\n",
        "                self.tensor3 = tf.concat([self.conv2, w_wo_c], axis=3)\n",
        "\n",
        "            with tf.variable_scope(\"Conv3\"):                                    # last feature map WITHOUT cash bias\n",
        "                self.conv3 = tf.layers.conv2d(\n",
        "                    inputs=self.conv2,\n",
        "                    activation=tf.nn.relu,\n",
        "                    filters=1,\n",
        "                    strides=(self.n_filter_2 + 1, 1),\n",
        "                    kernel_size=(1, 1),\n",
        "                    padding='same')\n",
        "\n",
        "            with tf.variable_scope(\"Tensor4\"):                                  # last feature map WITH cash bias, squeeze to reduce and get the good dimension\n",
        "                self.tensor4 = tf.concat([self.cash_bias, self.conv3], axis=2)  \n",
        "                self.squeezed_tensor4 = tf.squeeze(self.tensor4, [1, 3])       \n",
        "\n",
        "            with tf.variable_scope(\"Policy_Output\"):                            # softmax layer to obtain weights\n",
        "                self.action = tf.nn.softmax(self.squeezed_tensor4)              \n",
        "\n",
        "            with tf.variable_scope(\"Reward\"):                                   # computation of the reward\n",
        "\n",
        "                constant_return = tf.constant(1+self.interest_rate, shape=[1, 1])\n",
        "                cash_return = tf.tile(constant_return, tf.stack([shape_X_t, 1]))\n",
        "                y_t = tf.concat([cash_return, self.dailyReturn_t], axis=1)\n",
        "                Vprime_t = self.action * self.pf_value_previous\n",
        "                Vprevious = self.W_previous*self.pf_value_previous\n",
        "\n",
        "                constant = tf.constant(1.0, shape=[1])                          \n",
        "                cost = self.trading_cost * tf.norm(Vprime_t-Vprevious, ord=1, axis=1) * constant\n",
        "                cost = tf.expand_dims(cost, 1)\n",
        "                zero = tf.constant(np.array([0.0]*m).reshape(1, m), shape=[1, m], dtype=tf.float32)\n",
        "                vec_zero = tf.tile(zero, tf.stack([shape_X_t, 1]))\n",
        "                vec_cost = tf.concat([cost, vec_zero], axis=1)\n",
        "\n",
        "                Vsecond_t = Vprime_t - vec_cost\n",
        "\n",
        "                V_t = tf.multiply(Vsecond_t, y_t)\n",
        "                self.portfolioValue = tf.norm(V_t, ord=1)\n",
        "                self.instantaneous_reward = (self.portfolioValue-self.pf_value_previous)/self.pf_value_previous\n",
        "                \n",
        "            with tf.variable_scope(\"Reward_Equiweighted\"):                      # computation of the reward of equiwighted portfolio\n",
        "                constant_return = tf.constant(1+self.interest_rate, shape=[1, 1])\n",
        "                cash_return = tf.tile(constant_return, tf.stack([shape_X_t, 1]))\n",
        "                y_t = tf.concat([cash_return, self.dailyReturn_t], axis=1)\n",
        "  \n",
        "                V_eq = w_eq*self.pf_value_previous\n",
        "                V_eq_second = tf.multiply(V_eq, y_t)\n",
        "        \n",
        "                self.portfolioValue_eq = tf.norm(V_eq_second, ord=1)\n",
        "            \n",
        "                self.instantaneous_reward_eq = (self.portfolioValue_eq-self.pf_value_previous)/self.pf_value_previous\n",
        "                \n",
        "            with tf.variable_scope(\"Max_weight\"):                               # largest change in weight\n",
        "                self.max_weight = tf.reduce_max(self.action)\n",
        "                #print(self.max_weight.shape)\n",
        "                \n",
        "            with tf.variable_scope(\"Reward_adjusted\"):\n",
        "                self.adjusted_reward = self.instantaneous_reward - self.instantaneous_reward_eq - ratio_regul * self.max_weight\n",
        "                \n",
        "        #objective function\n",
        "        self.train_op = optimizer.minimize(-self.adjusted_reward)               # maximize reward over the batch, where min(-r) = max(r)\n",
        "        self.optimizer = optimizer\n",
        "        self.sess = sess\n",
        "\n",
        "    def compute_W(self, X_t_, W_previous_):\n",
        "        \"\"\"\n",
        "        This function returns the action the agent takes given the input tensor and the W_previous.\n",
        "        It is a vector of weights\n",
        "        \"\"\"\n",
        "        return self.sess.run(tf.squeeze(self.action), feed_dict={self.X_t: X_t_, self.W_previous: W_previous_})\n",
        "\n",
        "    def train(self, X_t_, W_previous_, pf_value_previous_, dailyReturn_t_):\n",
        "        \"\"\"\n",
        "        This function trains the neural network\n",
        "        maximizing the reward  and the input is a batch of the differents values\n",
        "        \"\"\"\n",
        "        self.sess.run(self.train_op, feed_dict={self.X_t: X_t_,\n",
        "                                                self.W_previous: W_previous_,\n",
        "                                                self.pf_value_previous: pf_value_previous_,\n",
        "                                                self.dailyReturn_t: dailyReturn_t_})"
      ],
      "execution_count": 0,
      "outputs": []
    },
    {
      "cell_type": "markdown",
      "metadata": {
        "id": "DMu9nqBkioDP",
        "colab_type": "text"
      },
      "source": [
        "### Portfolio Vector Memory\n",
        "\n",
        "As mentioned above, we need to input previous portfolio weights to the neural network, therefore we need to create an object that will store the memory of such portfolio vector."
      ]
    },
    {
      "cell_type": "code",
      "metadata": {
        "id": "N2poaWrFitTj",
        "colab_type": "code",
        "colab": {}
      },
      "source": [
        "class PVM(object):\n",
        "    \"\"\"\n",
        "    This is the memory stack of weights, called Portfolio Vector Memory\n",
        "    \"\"\"\n",
        "    def __init__(self, m, sample_bias, total_steps, batch_size, w_init):\n",
        "        \n",
        "        self.memory = np.transpose(np.array([w_init]*total_steps))              # initialization of the memory  \n",
        "        self.sample_bias = sample_bias\n",
        "        self.total_steps = total_steps                                          # number of times of initialization of portfolio tensor\n",
        "        self.batch_size = batch_size\n",
        "\n",
        "    def get_W(self, t):\n",
        "        \"\"\"\n",
        "        Returns the weight from the PVM at time t \n",
        "        \"\"\"\n",
        "        return self.memory[:, t]\n",
        "\n",
        "    def update(self, t, w):\n",
        "        \"\"\"\n",
        "        Update the weight at time t\n",
        "        \"\"\"\n",
        "        self.memory[:, t] = w\n",
        "\n",
        "    def draw(self, beta=sample_bias):\n",
        "        \"\"\"\n",
        "        Returns a valid step so you can get a training batch starting at this step\n",
        "        \"\"\"\n",
        "        while 1:\n",
        "            z = np.random.geometric(p=beta)\n",
        "            tb = self.total_steps - self.batch_size + 1 - z\n",
        "            if tb >= 0:\n",
        "                return tb\n",
        "            \n",
        "    def test(self):\n",
        "        \"\"\"\n",
        "        For test purposes\n",
        "        \"\"\"\n",
        "        return self.memory"
      ],
      "execution_count": 0,
      "outputs": []
    },
    {
      "cell_type": "markdown",
      "metadata": {
        "id": "piSxArbviuOq",
        "colab_type": "text"
      },
      "source": [
        "### Evaluation function\n",
        "\n",
        "This function is used to valuate performance of the individual agents on the independent validation or test set.\n"
      ]
    },
    {
      "cell_type": "code",
      "metadata": {
        "id": "9Ds5Vj1Biyk0",
        "colab_type": "code",
        "colab": {}
      },
      "source": [
        "def eval_perf(e):\n",
        "    \"\"\"\n",
        "    This function evaluates the performance of the different types of agents. \n",
        "    \"\"\"\n",
        "    list_weight_end_val = list()\n",
        "    list_pf_end_training = list()\n",
        "    list_pf_min_training = list()\n",
        "    list_pf_max_training = list()\n",
        "    list_pf_mean_training = list()\n",
        "    \n",
        "    #environment for trading of the agent \n",
        "    env_eval = TradeEnv(path=path_data, window_length=tensor_history,\n",
        "                        portfolio_value=pf_init_train, trading_cost=trading_cost,\n",
        "                        interest_rate=interest_rate, train_size=ratio_train)\n",
        "\n",
        "    #initialization of the environment \n",
        "    state_eval, done_eval = env_eval.reset(w_init_test, pf_init_test, t = total_steps_train)\n",
        "\n",
        "    #first element of the weight and portfolio value \n",
        "    p_list_eval = [pf_init_test]\n",
        "    w_list_eval = [w_init_test]\n",
        "\n",
        "    for k in range(total_steps_train, total_steps_train +total_steps_val-int(tensor_history/2)):\n",
        "        X_t = state_eval[0].reshape([-1]+ list(state_eval[0].shape))\n",
        "        W_previous = state_eval[1].reshape([-1]+ list(state_eval[1].shape))\n",
        "        pf_value_previous = state_eval[2]\n",
        "\n",
        "        action = actor.compute_W(X_t, W_previous)                               # compute the action\n",
        "        \n",
        "        state_eval, reward_eval, done_eval = env_eval.step(action)              # make step forward in environment\n",
        "\n",
        "        X_next = state_eval[0]\n",
        "        W_t_eval = state_eval[1]\n",
        "        pf_value_t_eval = state_eval[2]\n",
        "\n",
        "        dailyReturn_t = X_next[-1, :, -1]\n",
        "        #print('current portfolio value', round(pf_value_previous,0))\n",
        "        #print('weights', W_previous)\n",
        "        p_list_eval.append(pf_value_t_eval)\n",
        "        w_list_eval.append(W_t_eval)\n",
        "        \n",
        "    list_weight_end_val.append(w_list_eval[-1])\n",
        "    list_pf_end_training.append(p_list_eval[-1])\n",
        "    list_pf_min_training.append(np.min(p_list_eval))\n",
        "    list_pf_max_training.append(np.max(p_list_eval))\n",
        "    list_pf_mean_training.append(np.mean(p_list_eval))\n",
        "    \n",
        "    print('End of test PF value:',round(p_list_eval[-1]))\n",
        "    print('Min of test PF value:',round(np.min(p_list_eval)))\n",
        "    print('Max of test PF value:',round(np.max(p_list_eval)))\n",
        "    print('Mean of test PF value:',round(np.mean(p_list_eval)))\n",
        "    print('End of test weights:',w_list_eval[-1])\n",
        "    plt.title('Portfolio evolution (validation set) episode {}'.format(e))\n",
        "    plt.plot(p_list_eval, label = 'Agent Portfolio Value')\n",
        "    plt.legend(bbox_to_anchor=(1.05, 1), loc=2, borderaxespad=0.)\n",
        "    plt.show()\n",
        "    plt.title('Portfolio weights (end of validation set) episode {}'.format(e))\n",
        "    plt.bar(np.arange(m+1), list_weight_end_val[-1])\n",
        "    plt.xticks(np.arange(m+1), ['Money'] + list_stock, rotation=45)\n",
        "    plt.show()\n",
        "    \n",
        "    \n",
        "    names = ['Money'] + list_stock\n",
        "    w_list_eval = np.array(w_list_eval)\n",
        "    for j in range(m+1):\n",
        "        plt.plot(w_list_eval[1:,j], label = 'Weight Stock {}'.format(names[j]))\n",
        "        plt.legend(bbox_to_anchor=(1.05, 1), loc=2, borderaxespad=0.5)\n",
        "    plt.show()\n",
        "\n",
        "def get_random_action(m):\n",
        "    \"\"\"\n",
        "    Random action function for m assets.\n",
        "    \"\"\"                            \n",
        "    random_vec = np.random.rand(m+1)\n",
        "    return random_vec/np.sum(random_vec)"
      ],
      "execution_count": 0,
      "outputs": []
    },
    {
      "cell_type": "markdown",
      "metadata": {
        "id": "xKVIyu09iyL_",
        "colab_type": "text"
      },
      "source": [
        "### Envirionment Creation\n",
        "\n",
        "For comparison, we create an environment for out agent governed by deep policy function, an equiweighted portfolio which serves as our baseline and agents for individual stocks for comparison. "
      ]
    },
    {
      "cell_type": "code",
      "metadata": {
        "id": "ku6mZV4LjZY5",
        "colab_type": "code",
        "colab": {}
      },
      "source": [
        "## Specify parameters\n",
        "# Calculate data dimension\n",
        "nb_trading_period = data.shape[2]\n",
        "nb_feature_map = data.shape[0]\n",
        "nb_stocks = data.shape[1]\n",
        "m = nb_stocks  \n",
        "\n",
        "# Calculate train-validation-test splits\n",
        "total_steps_train = int(ratio_train*nb_trading_period)                          # Total number of steps for pre-training in the training set\n",
        "total_steps_val = int(ratio_valid*nb_trading_period)                            # Total number of steps for pre-training in the validation set\n",
        "total_steps_test = nb_trading_period-total_steps_train-total_steps_val          # Total number of steps for the test\n",
        "\n",
        "## Create environments\n",
        "# environment for trading of the agent                                          # this is the agent trading environment (policy network agent)\n",
        "env = TradeEnv(path=path_data, window_length=tensor_history,\n",
        "               portfolio_value=pf_init_train, trading_cost=trading_cost,\n",
        "               interest_rate=interest_rate, train_size=ratio_train)\n",
        "\n",
        "# environment for equiweighted                                                  # this environment is set up for an agent who only plays an equiweithed portfolio (baseline)\n",
        "env_eq = TradeEnv(path=path_data, window_length=tensor_history,\n",
        "               portfolio_value=pf_init_train, trading_cost=trading_cost,\n",
        "               interest_rate=interest_rate, train_size=ratio_train)\n",
        "\n",
        "# environment secured                                                           # this environment is set up for an agentwho plays secure, keeps its money (secured portfolio)\n",
        "env_s = TradeEnv(path=path_data, window_length=tensor_history,\n",
        "               portfolio_value=pf_init_train, trading_cost=trading_cost,\n",
        "               interest_rate=interest_rate, train_size=ratio_train)\n",
        "\n",
        "#full on one stock environment                                                  #these environments are set up for agents who play only on one stock\n",
        "action_fu = list() ; env_fu = list()\n",
        "for i in range(m):\n",
        "    action_i = np.array([0]*(i+1) + [1] + [0]*(m-(i+1)))\n",
        "    action_fu.append(action_i)\n",
        "    env_i = TradeEnv(path=path_data, window_length=tensor_history,\n",
        "               portfolio_value=pf_init_train, trading_cost=trading_cost,\n",
        "               interest_rate=interest_rate, train_size=ratio_train)\n",
        "    env_fu.append(env_i) \n",
        "\n"
      ],
      "execution_count": 0,
      "outputs": []
    },
    {
      "cell_type": "markdown",
      "metadata": {
        "id": "VollqVGNYO1k",
        "colab_type": "text"
      },
      "source": [
        "### Training"
      ]
    },
    {
      "cell_type": "code",
      "metadata": {
        "id": "IsnQMqkQYRXU",
        "colab_type": "code",
        "outputId": "58e8b457-c392-48d3-8e88-2f179b7077c4",
        "colab": {
          "base_uri": "https://localhost:8080/",
          "height": 1000
        }
      },
      "source": [
        "## Initialize variables\n",
        "# Initialize weight vectors\n",
        "w_init_train = np.array(np.array([1]+[0]*m))    \n",
        "w_init_test = np.array(np.array([1]+[0]*m))    \n",
        "w_eq = np.array(np.array([1/(m+1)]*(m+1)))\n",
        "w_s = np.array(np.array([1]+[0.0]*m))\n",
        "\n",
        "# Initialize session\n",
        "tf.reset_default_graph()\n",
        "sess = tf.Session()\n",
        "\n",
        "# Initialize network / policy function\n",
        "actor = Policy(m, tensor_history, sess, optimizer,                                   \n",
        "                 trading_cost=trading_cost, \n",
        "                 interest_rate=interest_rate)  \n",
        "\n",
        "# Initialize tensorflow graphs\n",
        "sess.run(tf.global_variables_initializer())\n",
        "\n",
        "# Initialize lists to store results\n",
        "list_final_pf = list()\n",
        "list_final_pf_eq = list()\n",
        "list_final_pf_s = list()\n",
        "list_final_pf_fu = list()\n",
        "list_final_pf_fu = [list() for i in range(m)]\n",
        "state_fu = [0]*m\n",
        "done_fu = [0]*m\n",
        "pf_value_t_fu = [0]*m\n",
        "\n",
        "    \n",
        "###### Train #####\n",
        "for e in range(n_episodes):\n",
        "    # if e==0: eval_perf('Before Training')\n",
        "    print('Episode:', e)\n",
        "    #init the PVM with the training parameters\n",
        "    memory = PVM(m,sample_bias, total_steps = total_steps_train, \n",
        "                 batch_size = batch_size, w_init = w_init_train)\n",
        "    \n",
        "    for nb in range(n_batches):\n",
        "        # print('Batch:',nb)\n",
        "        #draw the starting point of the batch \n",
        "        i_start = memory.draw()\n",
        "        \n",
        "        #reset the environment with the weight from PVM at the starting point\n",
        "        #reset also with a portfolio value with initial portfolio value\n",
        "        state, done = env.reset(memory.get_W(i_start), pf_init_train, t=i_start )\n",
        "        state_eq, done_eq = env_eq.reset(w_eq, pf_init_train, t=i_start )\n",
        "        state_s, done_s = env_s.reset(w_s, pf_init_train, t=i_start )\n",
        "        for i in range(m): state_fu[i], done_fu[i] = env_fu[i].reset(action_fu[i], pf_init_train, t=i_start )\n",
        "        \n",
        "        list_X_t, list_W_previous, list_pf_value_previous, list_dailyReturn_t = [], [], [], []\n",
        "        list_pf_value_previous_eq, list_pf_value_previous_s = [],[]\n",
        "        list_pf_value_previous_fu = list()\n",
        "        for i in range(m): list_pf_value_previous_fu.append(list())\n",
        "        \n",
        "        for bs in range(batch_size):\n",
        "            \n",
        "            #load the different inputs from the previous loaded state \n",
        "            X_t = state[0].reshape([-1] + list(state[0].shape))\n",
        "            W_previous = state[1].reshape([-1] + list(state[1].shape))\n",
        "            pf_value_previous = state[2]\n",
        "            \n",
        "            \n",
        "            if np.random.rand()< ratio_greedy:\n",
        "                #print('go')\n",
        "                #computation of the action of the agent\n",
        "                action = actor.compute_W(X_t, W_previous)\n",
        "            else:\n",
        "                action = get_random_action(m)\n",
        "            \n",
        "            #given the state and the action, call the environment to go one time step later \n",
        "            state, reward, done = env.step(action)\n",
        "            state_eq, reward_eq, done_eq = env_eq.step(w_eq)\n",
        "            state_s, reward_s, done_s = env_s.step(w_s)\n",
        "            \n",
        "            for i in range(m):\n",
        "                state_fu[i], _ , done_fu[i] = env_fu[i].step(action_fu[i])\n",
        "\n",
        "            \n",
        "            \n",
        "            #get the new state \n",
        "            X_next = state[0]\n",
        "            W_t = state[1]\n",
        "            pf_value_t = state[2]\n",
        "            pf_value_t_eq = state_eq[2]\n",
        "            pf_value_t_s = state_s[2]\n",
        "            for i in range(m): pf_value_t_fu[i] = state_fu[i][2]\n",
        "                \n",
        "            \n",
        "            #let us compute the returns \n",
        "            dailyReturn_t = X_next[-1, :, -1]\n",
        "            #update into the PVM\n",
        "            memory.update(i_start+bs, W_t)\n",
        "            #store elements\n",
        "            list_X_t.append(X_t.reshape(state[0].shape))\n",
        "            list_W_previous.append(W_previous.reshape(state[1].shape))\n",
        "            list_pf_value_previous.append([pf_value_previous])\n",
        "            list_dailyReturn_t.append(dailyReturn_t)\n",
        "            \n",
        "            list_pf_value_previous_eq.append(pf_value_t_eq)\n",
        "            list_pf_value_previous_s.append(pf_value_t_s)\n",
        "            for i in range(m): list_pf_value_previous_fu[i].append(pf_value_t_fu[i])\n",
        "            \n",
        "            if bs==batch_size-1:\n",
        "                list_final_pf.append(pf_value_t)\n",
        "                list_final_pf_eq.append(pf_value_t_eq)\n",
        "                list_final_pf_s.append(pf_value_t_s)\n",
        "                for i in range(m):\n",
        "                    list_final_pf_fu[i].append(pf_value_t_fu[i])\n",
        "            \n",
        "            #printing\n",
        "            #if bs==0:\n",
        "            #    print('start', i_start)\n",
        "            #    print('PF_start', round(pf_value_previous,0))\n",
        "            #\n",
        "            #if bs==batch_size-1:\n",
        "            #    print('PF_end', round(pf_value_t,0))\n",
        "            #    print('weight', W_t)\n",
        "\n",
        "        list_X_t = np.array(list_X_t)\n",
        "        list_W_previous = np.array(list_W_previous)\n",
        "        list_pf_value_previous = np.array(list_pf_value_previous)\n",
        "        list_dailyReturn_t = np.array(list_dailyReturn_t)\n",
        "        \n",
        "        \n",
        "        #for each batch, train the network to maximize the reward\n",
        "        actor.train(list_X_t, list_W_previous,\n",
        "                    list_pf_value_previous, list_dailyReturn_t)\n",
        "    eval_perf(e)"
      ],
      "execution_count": 11,
      "outputs": [
        {
          "output_type": "stream",
          "text": [
            "WARNING:tensorflow:From <ipython-input-7-217b56cd45df>:43: conv2d (from tensorflow.python.layers.convolutional) is deprecated and will be removed in a future version.\n",
            "Instructions for updating:\n",
            "Use `tf.keras.layers.Conv2D` instead.\n",
            "WARNING:tensorflow:From /usr/local/lib/python3.6/dist-packages/tensorflow_core/python/layers/convolutional.py:424: Layer.apply (from tensorflow.python.keras.engine.base_layer) is deprecated and will be removed in a future version.\n",
            "Instructions for updating:\n",
            "Please use `layer.__call__` method instead.\n",
            "Episode: 0\n",
            "End of test PF value: 12881.0\n",
            "Min of test PF value: 9818.0\n",
            "Max of test PF value: 12881.0\n",
            "Mean of test PF value: 11301.0\n",
            "End of test weights: [0.22860742 0.15341193 0.15331967 0.15380605 0.15723611 0.15361882]\n"
          ],
          "name": "stdout"
        },
        {
          "output_type": "display_data",
          "data": {
            "image/png": "[encoded data removed]",
            "text/plain": [
              "<Figure size 432x288 with 1 Axes>"
            ]
          },
          "metadata": {
            "tags": []
          }
        },
        {
          "output_type": "display_data",
          "data": {
            "image/png": "[encoded data removed]",
            "text/plain": [
              "<Figure size 432x288 with 1 Axes>"
            ]
          },
          "metadata": {
            "tags": []
          }
        },
        {
          "output_type": "display_data",
          "data": {
            "image/png": "[encoded data removed]",
            "text/plain": [
              "<Figure size 432x288 with 1 Axes>"
            ]
          },
          "metadata": {
            "tags": []
          }
        },
        {
          "output_type": "stream",
          "text": [
            "Episode: 1\n",
            "End of test PF value: 13010.0\n",
            "Min of test PF value: 9810.0\n",
            "Max of test PF value: 13010.0\n",
            "Mean of test PF value: 11357.0\n",
            "End of test weights: [0.19727562 0.15964309 0.15954708 0.16005322 0.1636226  0.15985839]\n"
          ],
          "name": "stdout"
        },
        {
          "output_type": "display_data",
          "data": {
            "image/png": "[encoded data removed]",
            "text/plain": [
              "<Figure size 432x288 with 1 Axes>"
            ]
          },
          "metadata": {
            "tags": []
          }
        },
        {
          "output_type": "display_data",
          "data": {
            "image/png": "[encoded data removed]",
            "text/plain": [
              "<Figure size 432x288 with 1 Axes>"
            ]
          },
          "metadata": {
            "tags": []
          }
        },
        {
          "output_type": "display_data",
          "data": {
            "image/png": "[encoded data removed]",
            "text/plain": [
              "<Figure size 432x288 with 1 Axes>"
            ]
          },
          "metadata": {
            "tags": []
          }
        },
        {
          "output_type": "stream",
          "text": [
            "Episode: 2\n"
          ],
          "name": "stdout"
        },
        {
          "output_type": "error",
          "ename": "KeyboardInterrupt",
          "evalue": "ignored",
          "traceback": [
            "\u001b[0;31m---------------------------------------------------------------------------\u001b[0m",
            "\u001b[0;31mKeyboardInterrupt\u001b[0m                         Traceback (most recent call last)",
            "\u001b[0;32m<ipython-input-11-cc266a9330dd>\u001b[0m in \u001b[0;36m<module>\u001b[0;34m()\u001b[0m\n\u001b[1;32m     63\u001b[0m                 \u001b[0;31m#print('go')\u001b[0m\u001b[0;34m\u001b[0m\u001b[0;34m\u001b[0m\u001b[0;34m\u001b[0m\u001b[0m\n\u001b[1;32m     64\u001b[0m                 \u001b[0;31m#computation of the action of the agent\u001b[0m\u001b[0;34m\u001b[0m\u001b[0;34m\u001b[0m\u001b[0;34m\u001b[0m\u001b[0m\n\u001b[0;32m---> 65\u001b[0;31m                 \u001b[0maction\u001b[0m \u001b[0;34m=\u001b[0m \u001b[0mactor\u001b[0m\u001b[0;34m.\u001b[0m\u001b[0mcompute_W\u001b[0m\u001b[0;34m(\u001b[0m\u001b[0mX_t\u001b[0m\u001b[0;34m,\u001b[0m \u001b[0mW_previous\u001b[0m\u001b[0;34m)\u001b[0m\u001b[0;34m\u001b[0m\u001b[0;34m\u001b[0m\u001b[0m\n\u001b[0m\u001b[1;32m     66\u001b[0m             \u001b[0;32melse\u001b[0m\u001b[0;34m:\u001b[0m\u001b[0;34m\u001b[0m\u001b[0;34m\u001b[0m\u001b[0m\n\u001b[1;32m     67\u001b[0m                 \u001b[0maction\u001b[0m \u001b[0;34m=\u001b[0m \u001b[0mget_random_action\u001b[0m\u001b[0;34m(\u001b[0m\u001b[0mm\u001b[0m\u001b[0;34m)\u001b[0m\u001b[0;34m\u001b[0m\u001b[0;34m\u001b[0m\u001b[0m\n",
            "\u001b[0;32m<ipython-input-7-217b56cd45df>\u001b[0m in \u001b[0;36mcompute_W\u001b[0;34m(self, X_t_, W_previous_)\u001b[0m\n\u001b[1;32m    124\u001b[0m         \u001b[0mIt\u001b[0m \u001b[0;32mis\u001b[0m \u001b[0ma\u001b[0m \u001b[0mvector\u001b[0m \u001b[0mof\u001b[0m \u001b[0mweights\u001b[0m\u001b[0;34m\u001b[0m\u001b[0;34m\u001b[0m\u001b[0m\n\u001b[1;32m    125\u001b[0m         \"\"\"\n\u001b[0;32m--> 126\u001b[0;31m         \u001b[0;32mreturn\u001b[0m \u001b[0mself\u001b[0m\u001b[0;34m.\u001b[0m\u001b[0msess\u001b[0m\u001b[0;34m.\u001b[0m\u001b[0mrun\u001b[0m\u001b[0;34m(\u001b[0m\u001b[0mtf\u001b[0m\u001b[0;34m.\u001b[0m\u001b[0msqueeze\u001b[0m\u001b[0;34m(\u001b[0m\u001b[0mself\u001b[0m\u001b[0;34m.\u001b[0m\u001b[0maction\u001b[0m\u001b[0;34m)\u001b[0m\u001b[0;34m,\u001b[0m \u001b[0mfeed_dict\u001b[0m\u001b[0;34m=\u001b[0m\u001b[0;34m{\u001b[0m\u001b[0mself\u001b[0m\u001b[0;34m.\u001b[0m\u001b[0mX_t\u001b[0m\u001b[0;34m:\u001b[0m \u001b[0mX_t_\u001b[0m\u001b[0;34m,\u001b[0m \u001b[0mself\u001b[0m\u001b[0;34m.\u001b[0m\u001b[0mW_previous\u001b[0m\u001b[0;34m:\u001b[0m \u001b[0mW_previous_\u001b[0m\u001b[0;34m}\u001b[0m\u001b[0;34m)\u001b[0m\u001b[0;34m\u001b[0m\u001b[0;34m\u001b[0m\u001b[0m\n\u001b[0m\u001b[1;32m    127\u001b[0m \u001b[0;34m\u001b[0m\u001b[0m\n\u001b[1;32m    128\u001b[0m     \u001b[0;32mdef\u001b[0m \u001b[0mtrain\u001b[0m\u001b[0;34m(\u001b[0m\u001b[0mself\u001b[0m\u001b[0;34m,\u001b[0m \u001b[0mX_t_\u001b[0m\u001b[0;34m,\u001b[0m \u001b[0mW_previous_\u001b[0m\u001b[0;34m,\u001b[0m \u001b[0mpf_value_previous_\u001b[0m\u001b[0;34m,\u001b[0m \u001b[0mdailyReturn_t_\u001b[0m\u001b[0;34m)\u001b[0m\u001b[0;34m:\u001b[0m\u001b[0;34m\u001b[0m\u001b[0;34m\u001b[0m\u001b[0m\n",
            "\u001b[0;32m/usr/local/lib/python3.6/dist-packages/tensorflow_core/python/client/session.py\u001b[0m in \u001b[0;36mrun\u001b[0;34m(self, fetches, feed_dict, options, run_metadata)\u001b[0m\n\u001b[1;32m    954\u001b[0m     \u001b[0;32mtry\u001b[0m\u001b[0;34m:\u001b[0m\u001b[0;34m\u001b[0m\u001b[0;34m\u001b[0m\u001b[0m\n\u001b[1;32m    955\u001b[0m       result = self._run(None, fetches, feed_dict, options_ptr,\n\u001b[0;32m--> 956\u001b[0;31m                          run_metadata_ptr)\n\u001b[0m\u001b[1;32m    957\u001b[0m       \u001b[0;32mif\u001b[0m \u001b[0mrun_metadata\u001b[0m\u001b[0;34m:\u001b[0m\u001b[0;34m\u001b[0m\u001b[0;34m\u001b[0m\u001b[0m\n\u001b[1;32m    958\u001b[0m         \u001b[0mproto_data\u001b[0m \u001b[0;34m=\u001b[0m \u001b[0mtf_session\u001b[0m\u001b[0;34m.\u001b[0m\u001b[0mTF_GetBuffer\u001b[0m\u001b[0;34m(\u001b[0m\u001b[0mrun_metadata_ptr\u001b[0m\u001b[0;34m)\u001b[0m\u001b[0;34m\u001b[0m\u001b[0;34m\u001b[0m\u001b[0m\n",
            "\u001b[0;32m/usr/local/lib/python3.6/dist-packages/tensorflow_core/python/client/session.py\u001b[0m in \u001b[0;36m_run\u001b[0;34m(self, handle, fetches, feed_dict, options, run_metadata)\u001b[0m\n\u001b[1;32m   1178\u001b[0m     \u001b[0;32mif\u001b[0m \u001b[0mfinal_fetches\u001b[0m \u001b[0;32mor\u001b[0m \u001b[0mfinal_targets\u001b[0m \u001b[0;32mor\u001b[0m \u001b[0;34m(\u001b[0m\u001b[0mhandle\u001b[0m \u001b[0;32mand\u001b[0m \u001b[0mfeed_dict_tensor\u001b[0m\u001b[0;34m)\u001b[0m\u001b[0;34m:\u001b[0m\u001b[0;34m\u001b[0m\u001b[0;34m\u001b[0m\u001b[0m\n\u001b[1;32m   1179\u001b[0m       results = self._do_run(handle, final_targets, final_fetches,\n\u001b[0;32m-> 1180\u001b[0;31m                              feed_dict_tensor, options, run_metadata)\n\u001b[0m\u001b[1;32m   1181\u001b[0m     \u001b[0;32melse\u001b[0m\u001b[0;34m:\u001b[0m\u001b[0;34m\u001b[0m\u001b[0;34m\u001b[0m\u001b[0m\n\u001b[1;32m   1182\u001b[0m       \u001b[0mresults\u001b[0m \u001b[0;34m=\u001b[0m \u001b[0;34m[\u001b[0m\u001b[0;34m]\u001b[0m\u001b[0;34m\u001b[0m\u001b[0;34m\u001b[0m\u001b[0m\n",
            "\u001b[0;32m/usr/local/lib/python3.6/dist-packages/tensorflow_core/python/client/session.py\u001b[0m in \u001b[0;36m_do_run\u001b[0;34m(self, handle, target_list, fetch_list, feed_dict, options, run_metadata)\u001b[0m\n\u001b[1;32m   1357\u001b[0m     \u001b[0;32mif\u001b[0m \u001b[0mhandle\u001b[0m \u001b[0;32mis\u001b[0m \u001b[0;32mNone\u001b[0m\u001b[0;34m:\u001b[0m\u001b[0;34m\u001b[0m\u001b[0;34m\u001b[0m\u001b[0m\n\u001b[1;32m   1358\u001b[0m       return self._do_call(_run_fn, feeds, fetches, targets, options,\n\u001b[0;32m-> 1359\u001b[0;31m                            run_metadata)\n\u001b[0m\u001b[1;32m   1360\u001b[0m     \u001b[0;32melse\u001b[0m\u001b[0;34m:\u001b[0m\u001b[0;34m\u001b[0m\u001b[0;34m\u001b[0m\u001b[0m\n\u001b[1;32m   1361\u001b[0m       \u001b[0;32mreturn\u001b[0m \u001b[0mself\u001b[0m\u001b[0;34m.\u001b[0m\u001b[0m_do_call\u001b[0m\u001b[0;34m(\u001b[0m\u001b[0m_prun_fn\u001b[0m\u001b[0;34m,\u001b[0m \u001b[0mhandle\u001b[0m\u001b[0;34m,\u001b[0m \u001b[0mfeeds\u001b[0m\u001b[0;34m,\u001b[0m \u001b[0mfetches\u001b[0m\u001b[0;34m)\u001b[0m\u001b[0;34m\u001b[0m\u001b[0;34m\u001b[0m\u001b[0m\n",
            "\u001b[0;32m/usr/local/lib/python3.6/dist-packages/tensorflow_core/python/client/session.py\u001b[0m in \u001b[0;36m_do_call\u001b[0;34m(self, fn, *args)\u001b[0m\n\u001b[1;32m   1363\u001b[0m   \u001b[0;32mdef\u001b[0m \u001b[0m_do_call\u001b[0m\u001b[0;34m(\u001b[0m\u001b[0mself\u001b[0m\u001b[0;34m,\u001b[0m \u001b[0mfn\u001b[0m\u001b[0;34m,\u001b[0m \u001b[0;34m*\u001b[0m\u001b[0margs\u001b[0m\u001b[0;34m)\u001b[0m\u001b[0;34m:\u001b[0m\u001b[0;34m\u001b[0m\u001b[0;34m\u001b[0m\u001b[0m\n\u001b[1;32m   1364\u001b[0m     \u001b[0;32mtry\u001b[0m\u001b[0;34m:\u001b[0m\u001b[0;34m\u001b[0m\u001b[0;34m\u001b[0m\u001b[0m\n\u001b[0;32m-> 1365\u001b[0;31m       \u001b[0;32mreturn\u001b[0m \u001b[0mfn\u001b[0m\u001b[0;34m(\u001b[0m\u001b[0;34m*\u001b[0m\u001b[0margs\u001b[0m\u001b[0;34m)\u001b[0m\u001b[0;34m\u001b[0m\u001b[0;34m\u001b[0m\u001b[0m\n\u001b[0m\u001b[1;32m   1366\u001b[0m     \u001b[0;32mexcept\u001b[0m \u001b[0merrors\u001b[0m\u001b[0;34m.\u001b[0m\u001b[0mOpError\u001b[0m \u001b[0;32mas\u001b[0m \u001b[0me\u001b[0m\u001b[0;34m:\u001b[0m\u001b[0;34m\u001b[0m\u001b[0;34m\u001b[0m\u001b[0m\n\u001b[1;32m   1367\u001b[0m       \u001b[0mmessage\u001b[0m \u001b[0;34m=\u001b[0m \u001b[0mcompat\u001b[0m\u001b[0;34m.\u001b[0m\u001b[0mas_text\u001b[0m\u001b[0;34m(\u001b[0m\u001b[0me\u001b[0m\u001b[0;34m.\u001b[0m\u001b[0mmessage\u001b[0m\u001b[0;34m)\u001b[0m\u001b[0;34m\u001b[0m\u001b[0;34m\u001b[0m\u001b[0m\n",
            "\u001b[0;32m/usr/local/lib/python3.6/dist-packages/tensorflow_core/python/client/session.py\u001b[0m in \u001b[0;36m_run_fn\u001b[0;34m(feed_dict, fetch_list, target_list, options, run_metadata)\u001b[0m\n\u001b[1;32m   1346\u001b[0m     \u001b[0;32mdef\u001b[0m \u001b[0m_run_fn\u001b[0m\u001b[0;34m(\u001b[0m\u001b[0mfeed_dict\u001b[0m\u001b[0;34m,\u001b[0m \u001b[0mfetch_list\u001b[0m\u001b[0;34m,\u001b[0m \u001b[0mtarget_list\u001b[0m\u001b[0;34m,\u001b[0m \u001b[0moptions\u001b[0m\u001b[0;34m,\u001b[0m \u001b[0mrun_metadata\u001b[0m\u001b[0;34m)\u001b[0m\u001b[0;34m:\u001b[0m\u001b[0;34m\u001b[0m\u001b[0;34m\u001b[0m\u001b[0m\n\u001b[1;32m   1347\u001b[0m       \u001b[0;31m# Ensure any changes to the graph are reflected in the runtime.\u001b[0m\u001b[0;34m\u001b[0m\u001b[0;34m\u001b[0m\u001b[0;34m\u001b[0m\u001b[0m\n\u001b[0;32m-> 1348\u001b[0;31m       \u001b[0mself\u001b[0m\u001b[0;34m.\u001b[0m\u001b[0m_extend_graph\u001b[0m\u001b[0;34m(\u001b[0m\u001b[0;34m)\u001b[0m\u001b[0;34m\u001b[0m\u001b[0;34m\u001b[0m\u001b[0m\n\u001b[0m\u001b[1;32m   1349\u001b[0m       return self._call_tf_sessionrun(options, feed_dict, fetch_list,\n\u001b[1;32m   1350\u001b[0m                                       target_list, run_metadata)\n",
            "\u001b[0;32m/usr/local/lib/python3.6/dist-packages/tensorflow_core/python/client/session.py\u001b[0m in \u001b[0;36m_extend_graph\u001b[0;34m(self)\u001b[0m\n\u001b[1;32m   1386\u001b[0m   \u001b[0;32mdef\u001b[0m \u001b[0m_extend_graph\u001b[0m\u001b[0;34m(\u001b[0m\u001b[0mself\u001b[0m\u001b[0;34m)\u001b[0m\u001b[0;34m:\u001b[0m\u001b[0;34m\u001b[0m\u001b[0;34m\u001b[0m\u001b[0m\n\u001b[1;32m   1387\u001b[0m     \u001b[0;32mwith\u001b[0m \u001b[0mself\u001b[0m\u001b[0;34m.\u001b[0m\u001b[0m_graph\u001b[0m\u001b[0;34m.\u001b[0m\u001b[0m_session_run_lock\u001b[0m\u001b[0;34m(\u001b[0m\u001b[0;34m)\u001b[0m\u001b[0;34m:\u001b[0m  \u001b[0;31m# pylint: disable=protected-access\u001b[0m\u001b[0;34m\u001b[0m\u001b[0;34m\u001b[0m\u001b[0m\n\u001b[0;32m-> 1388\u001b[0;31m       \u001b[0mtf_session\u001b[0m\u001b[0;34m.\u001b[0m\u001b[0mExtendSession\u001b[0m\u001b[0;34m(\u001b[0m\u001b[0mself\u001b[0m\u001b[0;34m.\u001b[0m\u001b[0m_session\u001b[0m\u001b[0;34m)\u001b[0m\u001b[0;34m\u001b[0m\u001b[0;34m\u001b[0m\u001b[0m\n\u001b[0m\u001b[1;32m   1389\u001b[0m \u001b[0;34m\u001b[0m\u001b[0m\n\u001b[1;32m   1390\u001b[0m   \u001b[0;31m# The threshold to run garbage collection to delete dead tensors.\u001b[0m\u001b[0;34m\u001b[0m\u001b[0;34m\u001b[0m\u001b[0;34m\u001b[0m\u001b[0m\n",
            "\u001b[0;31mKeyboardInterrupt\u001b[0m: "
          ]
        }
      ]
    },
    {
      "cell_type": "markdown",
      "metadata": {
        "id": "6pPv5g5mYQZn",
        "colab_type": "text"
      },
      "source": [
        "### Testing"
      ]
    },
    {
      "cell_type": "code",
      "metadata": {
        "id": "DDiY8wDbYUAk",
        "colab_type": "code",
        "colab": {}
      },
      "source": [
        "####### Test #######\n",
        "\n",
        "# Initialization of the environment \n",
        "state, done = env.reset(w_init_test, pf_init_test, t = total_steps_train)\n",
        "state_eq, done_eq = env_eq.reset(w_eq, pf_init_test, t = total_steps_train)\n",
        "state_s, done_s = env_s.reset(w_s, pf_init_test, t = total_steps_train)\n",
        "for i in range(m): state_fu[i],  done_fu[i] = env_fu[i].reset(action_fu[i], pf_init_test, t = total_steps_train)\n",
        "\n",
        "p_list = [pf_init_test]\n",
        "w_list = [w_init_test]\n",
        "p_list_eq = [pf_init_test]\n",
        "p_list_s = [pf_init_test]\n",
        "p_list_fu = list()\n",
        "for i in range(m): p_list_fu.append([pf_init_test])\n",
        "pf_value_t_fu = [0]*m\n",
        "\n",
        "for k in range(total_steps_train +total_steps_val-int(tensor_history/2), total_steps_train +total_steps_val +total_steps_test -tensor_history):\n",
        "    X_t = state[0].reshape([-1]+ list(state[0].shape))\n",
        "    W_previous = state[1].reshape([-1]+ list(state[1].shape))\n",
        "    pf_value_previous = state[2]\n",
        "\n",
        "    action = actor.compute_W(X_t, W_previous)                                   # compute the action \n",
        "\n",
        "    state, reward, done = env.step(action)                                      # step forward environment \n",
        "    state_eq, reward_eq, done_eq = env_eq.step(w_eq)\n",
        "    state_s, reward_s, done_s = env_s.step(w_s)\n",
        "    for i in range(m): state_fu[i], _ , done_fu[i] = env_fu[i].step(action_fu[i])\n",
        "    \n",
        "    X_next = state[0]\n",
        "    W_t = state[1]\n",
        "    pf_value_t = state[2]\n",
        "    pf_value_t_eq = state_eq[2]\n",
        "    pf_value_t_s = state_s[2]\n",
        "    for i in range(m): pf_value_t_fu[i] = state_fu[i][2]\n",
        "    \n",
        "    dailyReturn_t = X_next[-1, :, -1]\n",
        "\n",
        "    p_list.append(pf_value_t)\n",
        "    w_list.append(W_t)\n",
        "    p_list_eq.append(pf_value_t_eq)\n",
        "    p_list_s.append(pf_value_t_s)\n",
        "    for i in range(m): p_list_fu[i].append(pf_value_t_fu[i])\n",
        "        \n",
        "    if k== total_steps_train +total_steps_val-int(tensor_history/2) + 100:\n",
        "        break\n",
        "    "
      ],
      "execution_count": 0,
      "outputs": []
    },
    {
      "cell_type": "markdown",
      "metadata": {
        "id": "vs5Saw6NYhnU",
        "colab_type": "text"
      },
      "source": [
        "### Analysis\n",
        "\n",
        "Altough we haven't been able to reproduce the paper's results, nor find optimal hyperparameters for the individual problems due to the computational constraints. The algorithm has the capacity to identify high-potential stocks wich maximizes results if one takes the argmax of the softmax output. However, it has a little potential to change the position through the trading process. Morover, as can be seen below, it closely replicates the equiweighted portfolio. The reasion behind this is due to the reward function we chose. The reward corresponds to the porftfolio return minut the equiweighted portfolio return. Since in general the equiweighted portfolio preforms adequately well, in the short amount of epochs we are able to run the network it's only able to imitate the baseline. We have tried many initial parameters such as low trading cost to produce incentive to change of position or changes to the learning rate, but all attempts were unsuccesful. Our conclusion is that altough the agent is 'training sensitive' its behaviour is more or less similar across different data and inputs and thefore its not 'input state sensitive'. Additional sensitivity analysis we belive is out of scope of this project. "
      ]
    },
    {
      "cell_type": "code",
      "metadata": {
        "id": "ObjZnyRqYiGQ",
        "colab_type": "code",
        "colab": {}
      },
      "source": [
        "plt.title('Portfolio Value (Test Set) {}: {}, {}, {}, {}, {}, {}, {}, {}'.format(data_dir, batch_size, learning_rate, ratio_greedy, e, tensor_history, kernel1_size, n_batches, ratio_regul))\n",
        "plt.plot(p_list_eq, label = 'Equi-weighted Portfolio Value')\n",
        "plt.plot(p_list_s, label = 'Secured Portfolio Value')\n",
        "for i in range(m):\n",
        "    plt.plot(p_list_fu[i], label = 'Full Stock {} Portfolio Value'.format(list_stock[i]))\n",
        "plt.plot(p_list, label = 'Agent Portfolio Value', color = 'black')\n",
        "plt.legend(bbox_to_anchor=(1.05, 1), loc=2, borderaxespad=0.)\n",
        "plt.show()"
      ],
      "execution_count": 0,
      "outputs": []
    },
    {
      "cell_type": "code",
      "metadata": {
        "id": "GCquMk24a5dS",
        "colab_type": "code",
        "colab": {}
      },
      "source": [
        "names = ['Money'] + list_stock\n",
        "w_list = np.array(w_list)\n",
        "for j in range(m+1):\n",
        "    plt.plot(w_list[1:,j], label = 'Weight Stock {}'.format(names[j]))\n",
        "    plt.title('Weight evolution during testing')\n",
        "    plt.legend(bbox_to_anchor=(1.05, 1), loc=2, borderaxespad=0.5)\n",
        "plt.show()"
      ],
      "execution_count": 0,
      "outputs": []
    },
    {
      "cell_type": "code",
      "metadata": {
        "id": "3Odrra0dcB9J",
        "colab_type": "code",
        "colab": {}
      },
      "source": [
        ""
      ],
      "execution_count": 0,
      "outputs": []
    }
  ]
}